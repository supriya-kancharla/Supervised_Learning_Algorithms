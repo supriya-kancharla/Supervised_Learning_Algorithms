{
  "nbformat": 4,
  "nbformat_minor": 0,
  "metadata": {
    "colab": {
      "name": "E2_A3.ipynb",
      "provenance": [],
      "collapsed_sections": []
    },
    "kernelspec": {
      "name": "python3",
      "display_name": "Python 3"
    },
    "language_info": {
      "name": "python"
    },
    "accelerator": "GPU"
  },
  "cells": [
    {
      "cell_type": "code",
      "metadata": {
        "id": "IxqCck7uKohw"
      },
      "source": [
        "import pandas as pd\n",
        "import numpy as np\n",
        "import matplotlib.pyplot as plt\n",
        "import math, time\n",
        "\n",
        "from sklearn.pipeline import Pipeline\n",
        "from sklearn.preprocessing import MinMaxScaler\n",
        "from sklearn.model_selection import train_test_split\n",
        "from sklearn.model_selection import StratifiedShuffleSplit\n",
        "from sklearn.model_selection import GridSearchCV\n",
        "from sklearn.model_selection import cross_val_score\n",
        "from sklearn.svm import SVC\n",
        "from sklearn.metrics import accuracy_score, confusion_matrix"
      ],
      "execution_count": null,
      "outputs": []
    },
    {
      "cell_type": "code",
      "metadata": {
        "id": "wHGykGXzKwNB",
        "colab": {
          "base_uri": "https://localhost:8080/"
        },
        "outputId": "ea7ebd09-d46f-4fb6-8c48-a6a5dccce772"
      },
      "source": [
        "from tensorflow.keras.datasets import mnist\n",
        "(X_train, y_train),(X_test, y_test) = mnist.load_data()"
      ],
      "execution_count": null,
      "outputs": [
        {
          "output_type": "stream",
          "text": [
            "Downloading data from https://storage.googleapis.com/tensorflow/tf-keras-datasets/mnist.npz\n",
            "11493376/11490434 [==============================] - 0s 0us/step\n"
          ],
          "name": "stdout"
        }
      ]
    },
    {
      "cell_type": "code",
      "metadata": {
        "colab": {
          "base_uri": "https://localhost:8080/"
        },
        "id": "kdy6N6ZNKynG",
        "outputId": "9397aea5-548e-4047-92e7-c8df2e39ce16"
      },
      "source": [
        "X_train = np.array([i.flatten() for i in X_train])\n",
        "X_test = np.array([i.flatten() for i in X_test])\n",
        "y_train = y_train\n",
        "y_test = y_test\n",
        "print('mnist dataset shape:')\n",
        "print('X_train: ' + str(X_train.shape))\n",
        "print('y_train: ' + str(y_train.shape))\n",
        "print('X_test: ' + str(X_test.shape))\n",
        "print('y_test: ' + str(y_test.shape))"
      ],
      "execution_count": null,
      "outputs": [
        {
          "output_type": "stream",
          "text": [
            "mnist dataset shape:\n",
            "X_train: (60000, 784)\n",
            "y_train: (60000,)\n",
            "X_test: (10000, 784)\n",
            "y_test: (10000,)\n"
          ],
          "name": "stdout"
        }
      ]
    },
    {
      "cell_type": "code",
      "metadata": {
        "colab": {
          "base_uri": "https://localhost:8080/"
        },
        "id": "2zzXRVNRN-Kk",
        "outputId": "8fb13b4a-f6ee-4983-b3bb-8a46850ea6d1"
      },
      "source": [
        "df = pd.DataFrame(X_train)\n",
        "df['label'] = y_train\n",
        "df_train = df.groupby('label', group_keys=False).apply(lambda x: x.sample(1200))\n",
        "df_train = df_train.sample(frac=1)\n",
        "\n",
        "df = pd.DataFrame(X_test)\n",
        "df['label'] = y_test\n",
        "df_test = df.groupby('label', group_keys=False).apply(lambda x: x.sample(240))\n",
        "df_test = df_test.sample(frac=1)\n",
        "print('Sampled Dataset shape:')\n",
        "print('Train: ' + str(df_train.shape))\n",
        "print('Test: ' + str(df_test.shape))"
      ],
      "execution_count": null,
      "outputs": [
        {
          "output_type": "stream",
          "text": [
            "Sampled Dataset shape:\n",
            "Train: (12000, 785)\n",
            "Test: (2400, 785)\n"
          ],
          "name": "stdout"
        }
      ]
    },
    {
      "cell_type": "code",
      "metadata": {
        "colab": {
          "base_uri": "https://localhost:8080/"
        },
        "id": "RcoOo_uTq0n0",
        "outputId": "50d7bc83-7a52-43ec-e169-8c206f26e783"
      },
      "source": [
        "C = [0.1, 1, 3]\n",
        "gamma = [0.001,0.01, 0.1,1]\n",
        "for c in C:\n",
        "    for g in gamma:\n",
        "        start_time = time.time()\n",
        "        pipe = Pipeline([('scaler', MinMaxScaler(feature_range=(-1, 1))), ('svc', SVC(kernel= 'rbf', C = c, gamma = g))])\n",
        "        score = cross_val_score(pipe, df_train.drop(['label'], axis=1), df_train['label'], n_jobs=-1, cv=3)\n",
        "        accuracy = score.mean()\n",
        "        print(\"CrossVal Score for c = \",c ,\" and gamma = \",g,\" :\")\n",
        "        print(accuracy)\n",
        "        print(\"--- %s seconds ---\" % (time.time() - start_time))"
      ],
      "execution_count": null,
      "outputs": [
        {
          "output_type": "stream",
          "text": [
            "CrossVal Score for c =  0.1  and gamma =  0.001  :\n",
            "0.8911666666666666\n",
            "--- 219.65801620483398 seconds ---\n",
            "CrossVal Score for c =  0.1  and gamma =  0.01  :\n",
            "0.9165\n",
            "--- 271.4805717468262 seconds ---\n",
            "CrossVal Score for c =  0.1  and gamma =  0.1  :\n",
            "0.12408333333333334\n",
            "--- 443.52981543540955 seconds ---\n",
            "CrossVal Score for c =  0.1  and gamma =  1  :\n",
            "0.45058333333333334\n",
            "--- 443.32353949546814 seconds ---\n",
            "CrossVal Score for c =  1  and gamma =  0.001  :\n",
            "0.9320833333333334\n",
            "--- 99.39767146110535 seconds ---\n",
            "CrossVal Score for c =  1  and gamma =  0.01  :\n",
            "0.96175\n",
            "--- 198.49789762496948 seconds ---\n",
            "CrossVal Score for c =  1  and gamma =  0.1  :\n",
            "0.38949999999999996\n",
            "--- 443.9265673160553 seconds ---\n",
            "CrossVal Score for c =  1  and gamma =  1  :\n",
            "0.11258333333333333\n",
            "--- 442.77299332618713 seconds ---\n",
            "CrossVal Score for c =  3  and gamma =  0.001  :\n",
            "0.9420833333333333\n",
            "--- 76.08125567436218 seconds ---\n",
            "CrossVal Score for c =  3  and gamma =  0.01  :\n",
            "0.9635000000000001\n",
            "--- 201.41177701950073 seconds ---\n",
            "CrossVal Score for c =  3  and gamma =  0.1  :\n",
            "0.41441666666666666\n",
            "--- 443.9547026157379 seconds ---\n",
            "CrossVal Score for c =  3  and gamma =  1  :\n",
            "0.11750000000000001\n",
            "--- 440.86326932907104 seconds ---\n"
          ],
          "name": "stdout"
        }
      ]
    },
    {
      "cell_type": "code",
      "metadata": {
        "colab": {
          "base_uri": "https://localhost:8080/"
        },
        "id": "KLJfZPtL2xMH",
        "outputId": "ac1c88fc-ed6d-4722-af00-31e4769a4f57"
      },
      "source": [
        "pipe = Pipeline([('scaler', MinMaxScaler(feature_range=(-1, 1))), ('svc', SVC(kernel= 'rbf', C = 3, gamma = 0.01))])\n",
        "pipe.fit(df_train.drop(['label'], axis=1), df_train['label'])\n",
        "pred_train = pipe.predict(df_train.drop(['label'], axis=1))\n",
        "pred_test = pipe.predict(df_test.drop(['label'], axis=1))\n",
        "print('Training Accuracy : ')\n",
        "print(accuracy_score(df_train['label'], pred_train))\n",
        "\n",
        "print('Test Accuracy : ')\n",
        "print(accuracy_score(df_test['label'], pred_test))"
      ],
      "execution_count": null,
      "outputs": [
        {
          "output_type": "stream",
          "text": [
            "Training Accuracy : \n",
            "1.0\n",
            "Test Accuracy : \n",
            "0.9708333333333333\n"
          ],
          "name": "stdout"
        }
      ]
    },
    {
      "cell_type": "markdown",
      "metadata": {
        "id": "96HPDOPoM65J"
      },
      "source": [
        "I have used a subset of MNIST dataset. I have sampled 12,000 samples with 1200 samples from each label using stratified sampling. The 28x28 images are flattened into 784 1D arrays. \n",
        "\n",
        "Cross Validation is used for hyperparameter tuning through a grid search with different values for C and gamma.\n",
        "The best Hyperparameters are chosen as c =  3  and gamma =  0.01  with a cross validation score for 3 fold CV as 0.9635.\n",
        "\n",
        "Using these hyperparamters, SVM with 'rbf' kernel is used with the default decision function, oneVsRest(ovr).\n",
        "The training and test accuracy are :\n",
        "\n",
        "Training Accuracy : \n",
        "1.0\n",
        "\n",
        "Test Accuracy : \n",
        "0.9708333333333333"
      ]
    },
    {
      "cell_type": "markdown",
      "metadata": {
        "id": "3YxH38VnA9Lr"
      },
      "source": [
        "## **One Vs All SVM**"
      ]
    },
    {
      "cell_type": "code",
      "metadata": {
        "id": "sTheD2MAPib1",
        "colab": {
          "base_uri": "https://localhost:8080/"
        },
        "outputId": "7ea9869e-afa0-44a6-8563-3323378e1fed"
      },
      "source": [
        "labels = list(set(df_train['label']))\n",
        "classifiers = []\n",
        "for label in labels:\n",
        "    y_hat =  np.where(df_train['label'] != label, 0, 1)\n",
        "    clf = Pipeline([('scaler', MinMaxScaler(feature_range=(-1, 1))), ('svc', SVC(kernel= 'rbf', C = 3, gamma = 0.01, class_weight= 'balanced', probability=True))])\n",
        "    clf.fit(df_train.drop(['label'], axis=1), y_hat)\n",
        "    print(\"Done for label \", label)\n",
        "    classifiers.append(clf)"
      ],
      "execution_count": null,
      "outputs": [
        {
          "output_type": "stream",
          "text": [
            "Done for label  0\n",
            "Done for label  1\n",
            "Done for label  2\n",
            "Done for label  3\n",
            "Done for label  4\n",
            "Done for label  5\n",
            "Done for label  6\n",
            "Done for label  7\n",
            "Done for label  8\n",
            "Done for label  9\n"
          ],
          "name": "stdout"
        }
      ]
    },
    {
      "cell_type": "code",
      "metadata": {
        "id": "p8yB_zq1mJDM"
      },
      "source": [
        "predictions = pd.DataFrame()\n",
        "for i in range(len(classifiers)):\n",
        "    preds = classifiers[i].predict_proba(df_train.drop(['label'], axis=1))\n",
        "    predictions[str(i)] = preds[:,1]\n",
        "y_pred_train = np.array(predictions.idxmax(axis=\"columns\")).astype(int)\n",
        "\n",
        "predictions = pd.DataFrame()\n",
        "for i in range(len(classifiers)):\n",
        "    preds = classifiers[i].predict_proba(df_test.drop(['label'], axis=1))\n",
        "    predictions[str(i)] = preds[:,1]\n",
        "y_pred_test = np.array(predictions.idxmax(axis=\"columns\")).astype(int)"
      ],
      "execution_count": null,
      "outputs": []
    },
    {
      "cell_type": "code",
      "metadata": {
        "colab": {
          "base_uri": "https://localhost:8080/"
        },
        "id": "Feei62DYlsjE",
        "outputId": "f93dbd60-fb15-4252-9183-c668b111e8d9"
      },
      "source": [
        "print('Training Accuracy : ')\n",
        "print(accuracy_score(df_train['label'], y_pred_train))\n",
        "\n",
        "print('Test Accuracy : ')\n",
        "print(accuracy_score(df_test['label'], y_pred_test))\n",
        "\n",
        "print('Confusion Matrix for test predictions')\n",
        "print(confusion_matrix(df_test['label'], y_pred_test))"
      ],
      "execution_count": null,
      "outputs": [
        {
          "output_type": "stream",
          "text": [
            "Training Accuracy : \n",
            "1.0\n",
            "Test Accuracy : \n",
            "0.9758333333333333\n",
            "Confusion Matrix for test predictions\n",
            "[[238   0   0   0   0   0   1   0   1   0]\n",
            " [  0 238   1   0   0   1   0   0   0   0]\n",
            " [  1   0 234   1   0   0   0   3   1   0]\n",
            " [  0   0   2 231   0   0   0   3   3   1]\n",
            " [  0   0   1   0 235   0   0   0   0   4]\n",
            " [  0   0   1   6   0 230   1   0   1   1]\n",
            " [  1   0   0   0   0   2 236   0   1   0]\n",
            " [  0   0   4   0   1   0   0 235   0   0]\n",
            " [  0   0   1   0   1   1   0   2 234   1]\n",
            " [  0   1   1   2   4   0   0   1   0 231]]\n"
          ],
          "name": "stdout"
        }
      ]
    },
    {
      "cell_type": "code",
      "metadata": {
        "colab": {
          "base_uri": "https://localhost:8080/"
        },
        "id": "cWZTB_I-BKf2",
        "outputId": "102cd3e7-ff9e-490e-9dde-8a00c9bfeece"
      },
      "source": [
        "pipe = Pipeline([('scaler', MinMaxScaler(feature_range=(-1, 1))), ('svc', SVC(kernel= 'rbf', C = 3, gamma = 0.01, decision_function_shape='ovo'))])\n",
        "pipe.fit(df_train.drop(['label'], axis=1), df_train['label'])\n",
        "pred_train = pipe.predict(df_train.drop(['label'], axis=1))\n",
        "pred_test = pipe.predict(df_test.drop(['label'], axis=1))\n",
        "print('Training Accuracy : ')\n",
        "print(accuracy_score(df_train['label'], pred_train))\n",
        "\n",
        "print('Test Accuracy : ')\n",
        "print(accuracy_score(df_test['label'], pred_test))\n",
        "\n",
        "print('Confusion Matrix for test predictions')\n",
        "print(confusion_matrix(df_test['label'], pred_test))"
      ],
      "execution_count": null,
      "outputs": [
        {
          "output_type": "stream",
          "text": [
            "Training Accuracy : \n",
            "1.0\n",
            "Test Accuracy : \n",
            "0.9708333333333333\n",
            "Confusion Matrix for test predictions\n",
            "[[239   0   0   0   0   1   0   0   0   0]\n",
            " [  0 238   1   0   0   1   0   0   0   0]\n",
            " [  1   0 233   1   0   0   1   2   2   0]\n",
            " [  0   0   3 230   0   0   0   3   4   0]\n",
            " [  0   0   1   0 235   0   0   0   0   4]\n",
            " [  0   0   2   5   0 230   1   0   2   0]\n",
            " [  1   0   0   0   0   3 235   0   1   0]\n",
            " [  0   0   4   0   3   0   0 233   0   0]\n",
            " [  1   0   1   1   1   2   0   2 231   1]\n",
            " [  0   4   1   2   5   0   0   1   1 226]]\n"
          ],
          "name": "stdout"
        }
      ]
    },
    {
      "cell_type": "markdown",
      "metadata": {
        "id": "qIKImY4zfLcZ"
      },
      "source": [
        "In this part of the exercise, one-vs-one inbuilt function is compared with the one-vs-all coded version of SVM. \n",
        "\n",
        "\n",
        "---\n",
        "\n",
        "\n",
        "For the built code, 10 classifiers are trained with the binary svm function with same best hyperparamters. Then training and test predictions were made by selecting the highest probable class label. Later, accuracies were calculated and reported as below:\n",
        "\n",
        "Training Accuracy : \n",
        "1.0\n",
        "\n",
        "Test Accuracy : \n",
        "0.9758333333333333\n",
        "\n",
        "This was same as the accuracies reported in exercise one.\n",
        "\n",
        "\n",
        "---\n",
        "\n",
        "\n",
        "Later, the inbuilt 'ovo' version is used to fit and predict with the same chosen hyperparameters. The accuracies are as listed below:\n",
        "\n",
        "Training Accuracy : \n",
        "1.0\n",
        "\n",
        "Test Accuracy : \n",
        "0.9708333333333333\n",
        "\n",
        "\n",
        "---\n",
        "\n",
        "To some extent, both classifiers performed nearly equally good with aroung 97% accuracy. There was only 0.5% difference and 'ovr' classifier performed better than 'ovo' with that 0.5% difference.\n",
        "\n",
        "Observing the confusion matrices, the misclassifications are similar but just that there are slighly more (2 or 3) in 'ovo'. \n",
        "The major classes that were misclassified are (1 and 9, 3 and 5, 4 and 9, 7 and 2, 3 and 8)\n",
        "\n"
      ]
    }
  ]
}